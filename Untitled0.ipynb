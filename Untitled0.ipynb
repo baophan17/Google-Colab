{
  "nbformat": 4,
  "nbformat_minor": 0,
  "metadata": {
    "colab": {
      "provenance": [],
      "toc_visible": true,
      "include_colab_link": true
    },
    "kernelspec": {
      "name": "python3",
      "display_name": "Python 3"
    },
    "language_info": {
      "name": "python"
    }
  },
  "cells": [
    {
      "cell_type": "markdown",
      "metadata": {
        "id": "view-in-github",
        "colab_type": "text"
      },
      "source": [
        "<a href=\"https://colab.research.google.com/github/baophan17/Google-Colab/blob/main/Untitled0.ipynb\" target=\"_parent\"><img src=\"https://colab.research.google.com/assets/colab-badge.svg\" alt=\"Open In Colab\"/></a>"
      ]
    },
    {
      "cell_type": "code",
      "source": [
        "from keras.datasets import mnist\n",
        "(train_images, train_labels), (test_images, test_labels) = mnist. load_data()"
      ],
      "metadata": {
        "colab": {
          "base_uri": "https://localhost:8080/"
        },
        "id": "UvopTks3As2h",
        "outputId": "a2bd4e9a-5780-45f7-bcc1-cb3bf68b06fb"
      },
      "execution_count": null,
      "outputs": [
        {
          "output_type": "stream",
          "name": "stdout",
          "text": [
            "Downloading data from https://storage.googleapis.com/tensorflow/tf-keras-datasets/mnist.npz\n",
            "11490434/11490434 [==============================] - 0s 0us/step\n"
          ]
        }
      ]
    },
    {
      "cell_type": "code",
      "execution_count": null,
      "metadata": {
        "colab": {
          "base_uri": "https://localhost:8080/"
        },
        "id": "07e7NwpQ_aIx",
        "outputId": "60a38f29-f961-49c0-a327-50aa5e7281a8"
      },
      "outputs": [
        {
          "output_type": "stream",
          "name": "stdout",
          "text": [
            "Mounted at /content/drive\n"
          ]
        }
      ],
      "source": [
        "from google.colab import drive\n",
        "drive.mount('/content/drive')"
      ]
    },
    {
      "cell_type": "code",
      "source": [
        "import numpy as np\n",
        "import pandas as pd\n",
        "import random\n",
        "import matplotlib.pyplot as plt\n",
        "\n",
        "from mpl_toolkits.mplot3d import Axes3D\n",
        "\n",
        "from matplotlib import cm\n",
        "\n",
        "from sklearn.model_selection import train_test_split\n",
        "from sklearn. linear_model import LinearRegression\n",
        "\n",
        "import matplotlib.animation as animation\n",
        "from IPython.display import HTML\n",
        "\n",
        "%matplotlib inline\n",
        "plt.style.use('seaborn-white')"
      ],
      "metadata": {
        "colab": {
          "base_uri": "https://localhost:8080/"
        },
        "id": "c0_9KB-QBQcT",
        "outputId": "d736726d-a6b5-44aa-80b8-3b5ff7a20622"
      },
      "execution_count": null,
      "outputs": [
        {
          "output_type": "stream",
          "name": "stderr",
          "text": [
            "<ipython-input-2-1d0e2e63e559>:17: MatplotlibDeprecationWarning: The seaborn styles shipped by Matplotlib are deprecated since 3.6, as they no longer correspond to the styles shipped by seaborn. However, they will remain available as 'seaborn-v0_8-<style>'. Alternatively, directly use the seaborn API instead.\n",
            "  plt.style.use('seaborn-white')\n"
          ]
        }
      ]
    },
    {
      "cell_type": "code",
      "source": [
        "file_path = '/content/drive/MyDrive/Colab Notebooks/Data/AgeBloodPressure.csv'\n",
        "dataset = pd.read_csv(file_path)\n",
        "print(dataset.head())"
      ],
      "metadata": {
        "colab": {
          "base_uri": "https://localhost:8080/"
        },
        "id": "lWdaZDFsDB9T",
        "outputId": "f069d93b-6d1a-4141-866e-f02172c28bb7"
      },
      "execution_count": null,
      "outputs": [
        {
          "output_type": "stream",
          "name": "stdout",
          "text": [
            "   Age   BloodPressure\n",
            "0   39             144\n",
            "1   47             220\n",
            "2   45             138\n",
            "3   47             145\n",
            "4   65             162\n"
          ]
        }
      ]
    },
    {
      "cell_type": "code",
      "source": [
        "Xs = dataset.iloc[:, :- 1].values\n",
        "ys = dataset.iloc[:, 1]. values"
      ],
      "metadata": {
        "id": "FLcILiu1DvxB"
      },
      "execution_count": null,
      "outputs": []
    },
    {
      "cell_type": "code",
      "source": [
        "plt.scatter(Xs, ys, color = 'red', edgecolor='b')\n",
        "plt.xlabel('$Age$')\n",
        "plt.ylabel('$Blood$')\n",
        "plt.tick_params(axis='x', colors='red')\n",
        "plt.tick_params(axis='y', colors='blue')\n",
        "plt.ylim(80,230)\n",
        "plt.xlim(10,80)\n",
        "plt.show()"
      ],
      "metadata": {
        "colab": {
          "base_uri": "https://localhost:8080/",
          "height": 448
        },
        "id": "gHEJ0-ZWEpFO",
        "outputId": "1b0c5433-6c63-4b50-ffd6-499b0ade74e5"
      },
      "execution_count": null,
      "outputs": [
        {
          "output_type": "display_data",
          "data": {
            "text/plain": [
              "<Figure size 640x480 with 1 Axes>"
            ],
            "image/png": "[encoded data removed]"
          },
          "metadata": {}
        }
      ]
    },
    {
      "cell_type": "code",
      "source": [
        "Xtrain, Xtest, ytrain, ytest = train_test_split(Xs, ys, test_size= 1/3, random_state = 0)\n",
        "\n",
        "slr = LinearRegression()\n",
        "\n",
        "slr.fit(Xtrain, ytrain)\n",
        "\n",
        "plt.plot(Xs, slr.predict(Xs), color = 'blue')\n",
        "\n",
        "plt.scatter(Xs, ys, marker='o', c='r', edgecolor='b')\n",
        "\n",
        "plt.xlabel('$Age$')\n",
        "plt.ylabel('$Blood$')\n",
        "\n",
        "plt.tick_params(axis='x', colors='red')\n",
        "plt.tick_params(axis='y', colors='blue')\n",
        "plt.ylim(80,230)\n",
        "plt.xlim(10,80)\n",
        "plt.show()"
      ],
      "metadata": {
        "colab": {
          "base_uri": "https://localhost:8080/",
          "height": 448
        },
        "id": "MPGlxj17F5yC",
        "outputId": "cb64b7a3-7e0c-488d-e50d-2e1ab25201ae"
      },
      "execution_count": null,
      "outputs": [
        {
          "output_type": "display_data",
          "data": {
            "text/plain": [
              "<Figure size 640x480 with 1 Axes>"
            ],
            "image/png": "[encoded data removed]"
          },
          "metadata": {}
        }
      ]
    },
    {
      "cell_type": "code",
      "source": [
        "dataset = (dataset - dataset.mean())/dataset.std()\n",
        "X = dataset.iloc[:, :- 1].values\n",
        "y = dataset. iloc[:, :1].values"
      ],
      "metadata": {
        "id": "beDSK_weGjvM"
      },
      "execution_count": 17,
      "outputs": []
    },
    {
      "cell_type": "code",
      "source": [
        "t = np.size(y)\n",
        "kk = np.ones((t,1),dtype=int)\n",
        "X = np.append(kk, X, axis=1)"
      ],
      "metadata": {
        "id": "uFAlyMVbIjl1"
      },
      "execution_count": 19,
      "outputs": []
    },
    {
      "cell_type": "code",
      "source": [
        "def Loss_func(X, y, Theta):\n",
        "  n = np.size(y)\n",
        "  h = X.dot (Theta)\n",
        "  L = float((1./n) * (h -y).T.dot(h -y))\n",
        "  return L"
      ],
      "metadata": {
        "id": "MtTQQFj-Iwz6"
      },
      "execution_count": 20,
      "outputs": []
    },
    {
      "cell_type": "code",
      "source": [
        "def gradLoss(X, y, Theta):\n",
        "  n = np.size(y)\n",
        "  h = X.dot (Theta)\n",
        "  gL= (1./n)* (X.T.dot(h-y))\n",
        "  return gL"
      ],
      "metadata": {
        "id": "1tRjCGt_I8ho"
      },
      "execution_count": 21,
      "outputs": []
    }
  ]
}